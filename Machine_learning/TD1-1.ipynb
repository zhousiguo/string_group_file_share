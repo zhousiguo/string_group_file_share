{
 "cells": [
  {
   "cell_type": "markdown",
   "metadata": {},
   "source": [
    "# TD1: Least squares regression"
   ]
  },
  {
   "cell_type": "markdown",
   "metadata": {},
   "source": [
    "(adapted from Pierre Gaillard)"
   ]
  },
  {
   "cell_type": "code",
   "execution_count": 3,
   "metadata": {},
   "outputs": [],
   "source": [
    "import numpy as np\n",
    "import scipy.io as sio\n",
    "import matplotlib.pyplot as plt"
   ]
  },
  {
   "cell_type": "markdown",
   "metadata": {},
   "source": [
    "## 1. Linear and polynomial least squares regression: curve fitting"
   ]
  },
  {
   "cell_type": "markdown",
   "metadata": {},
   "source": [
    "Let $(X,Y)$ be a pair of real random variable such that $X$ is uniform on $[0,1]$ and $Y = f_*(X)+\\sigma Z$, where $f_*(x) = \\sin(6x)$, $\\sigma = 0.5$, and $Z$ is some is a standard Gaussian random variable, independent from $X$. \n",
    "\n",
    "(1) Generate $n = 40$ realizations $(x_i, y_i), i = 1, \\dots n$ of $(X,Y)$."
   ]
  },
  {
   "cell_type": "code",
   "execution_count": 48,
   "metadata": {},
   "outputs": [
    {
     "name": "stdout",
     "output_type": "stream",
     "text": [
      "[(0.47469224729942505, 0.5613258734455957), (0.3582560578699534, 0.7347256013307375), (0.21452729768763557, 0.9168322089230707), (0.3795118746556736, 0.8765720469268533), (0.8211056974491222, -0.801954231188734), (0.038421016878197656, 0.3589525275236276), (0.056089381322003806, 0.9040546145224629), (0.7643680362269214, -0.8963377848197278), (0.5097503999491848, -0.33890929045395657), (0.22275320501252993, 1.170458955148899), (0.19632898959472134, 1.3074013253444374), (0.977831496947902, -0.6796831658787337), (0.279154367134687, 1.1783579834417612), (0.7167847775160886, -1.29296513334646), (0.8359707118633682, -1.2918991996608253), (0.10226549534675622, 0.7550664562850176), (0.647466065965821, -0.7508907766483701), (0.7982732113268078, -1.098249130943014), (0.01815179476415063, 0.45523307477741004), (0.9736291699138495, -1.026323525531895), (0.4139916873090276, 0.18829310157741164), (0.7876074014451735, -0.8575473626009225), (0.8138948081441605, -1.155935690790078), (0.8840334597567193, -0.5140738836461178), (0.7055457746799464, -1.004184680059735), (0.644183924587767, -0.6145297926697079), (0.16793038153334483, 0.8850769272659297), (0.7285242624822673, -1.3869092168273396), (0.2679222923924295, 0.9003227439483449), (0.5460665473120563, -0.02812307669052301), (0.9390339065021706, -1.1263263205736003), (0.7075322202447242, -0.8412858823985865), (0.03160569239676736, -0.24058793232850148), (0.9718874875519805, -0.1540496391102178), (0.6684561243290643, -0.8879358030463302), (0.30688811877322186, 0.7171441035554397), (0.9306037491375606, -0.3942061263698582), (0.3716882446000619, 0.8444387981675975), (0.46801213134342146, 0.08038265696265606), (0.9275033606705293, -0.3899137483220478)]\n"
     ]
    }
   ],
   "source": [
    "n=40\n",
    "sigma=0.5\n",
    "x,y,xy,fx=[],[],[],[]\n",
    "for i in range(n):\n",
    "    xi=(np.random.uniform())\n",
    "    Z=np.random.normal(0,sigma)\n",
    "    yi=(np.sin(6*xi)+sigma*Z)\n",
    "    fxi=yi-sigma*Z\n",
    "    xy.append((xi,yi))\n",
    "    x.append(xi)\n",
    "    y.append(yi)\n",
    "    fx.append(fxi)\n",
    "print(xy)"
   ]
  },
  {
   "cell_type": "markdown",
   "metadata": {},
   "source": [
    "(2) Plot the realizations of $(X,Y)$, along with the curve $y = f_*(x)$."
   ]
  },
  {
   "cell_type": "code",
   "execution_count": 7,
   "metadata": {},
   "outputs": [
    {
     "data": {
      "image/png": "[encoded data removed]",
      "text/plain": [
       "<Figure size 432x288 with 1 Axes>"
      ]
     },
     "metadata": {
      "needs_background": "light"
     },
     "output_type": "display_data"
    }
   ],
   "source": [
    "plt.plot(x,fx,\"ro\")\n",
    "plt.plot(x,y,\"bo\")\n",
    "plt.xlabel(\"x\")\n",
    "plt.ylabel(\"y\")\n",
    "plt.show()"
   ]
  },
  {
   "cell_type": "markdown",
   "metadata": {},
   "source": [
    "In this section, we try to learn the function $f_*$ from the $n$ samples. We start with empirical risk minimization over the set of linear functions. "
   ]
  },
  {
   "cell_type": "markdown",
   "metadata": {},
   "source": [
    "(3) What are here the input space $\\mathcal{X}$ of the linear regression? What is the output space $\\mathcal{Y}$? What is the optimal predictor among all $L^2$ functions $f:\\mathcal{X} \\to \\mathcal{Y}$? (Here optimal means that it minimizes the risk $R(f)$.) What is the risk of the optimal predictor?"
   ]
  },
  {
   "cell_type": "markdown",
   "metadata": {},
   "source": []
  },
  {
   "cell_type": "markdown",
   "metadata": {},
   "source": [
    "The empirical risk minimization over the set of linear function means that we estimate\n",
    "$$ \\hat{f} = {\\rm argmin}_{f \\in F} \\hat{R}(f) $$ \n",
    "where \n",
    "$$ F = \\{f(x) = w_0 + w_1 x | w_0, w_1 \\in \\mathbb{R}\\} \\, , $$\n",
    "$$ \\hat{R}(f) = \\frac{1}{n} \\sum_{i=1}^{n} (y_i - f(x_i))^2 \\, .$$\n",
    "\n",
    "(4) Writing $\\hat{f}(x) = w_1 x + w_0$, compute $w_0$, $w_1$ in terms of the observations $(x_i,y_i)$."
   ]
  },
  {
   "cell_type": "code",
   "execution_count": 56,
   "metadata": {},
   "outputs": [
    {
     "name": "stdout",
     "output_type": "stream",
     "text": [
      "[ 0.28924609  0.83715248  0.96004523  0.76078474 -0.97713715  0.22848974\n",
      "  0.33021967 -0.99204976  0.08299468  0.97268241  0.92383234 -0.40428442\n",
      "  0.99458338 -0.91644974 -0.95431566  0.57580873 -0.67665031 -0.99701768\n",
      "  0.10869559 -0.427215    0.61125277 -0.99991215 -0.98541852 -0.82993131\n",
      " -0.88740356 -0.66202011  0.84554349 -0.94233928  0.99932526 -0.1343987\n",
      " -0.60437557 -0.89283483  0.18849962 -0.43663996 -0.76377675  0.96362876\n",
      " -0.64388325  0.79040092  0.32737096 -0.65800411]\n",
      "[ 0.56132587  0.7347256   0.91683221  0.87657205 -0.80195423  0.35895253\n",
      "  0.90405461 -0.89633778 -0.33890929  1.17045896  1.30740133 -0.67968317\n",
      "  1.17835798 -1.29296513 -1.2918992   0.75506646 -0.75089078 -1.09824913\n",
      "  0.45523307 -1.02632353  0.1882931  -0.85754736 -1.15593569 -0.51407388\n",
      " -1.00418468 -0.61452979  0.88507693 -1.38690922  0.90032274 -0.02812308\n",
      " -1.12632632 -0.84128588 -0.24058793 -0.15404964 -0.8879358   0.7171441\n",
      " -0.39420613  0.8444388   0.08038266 -0.38991375]\n",
      "w1= 1.0658571176797929\n",
      "w0= 0.2743712481809984\n"
     ]
    }
   ],
   "source": [
    "x=np.asarray(fx)\n",
    "y=np.asarray(y)\n",
    "#x=np.sin(6*x)\n",
    "print(x)\n",
    "print(y)\n",
    "xt=x.transpose()\n",
    "w1=np.matmul(xt,x)**(-1)\n",
    "w1*=np.matmul(xt,y)\n",
    "print(\"w1=\",w1)\n",
    "w0=y-w1*x\n",
    "w0=np.std(w0)\n",
    "print(\"w0=\", w0)"
   ]
  },
  {
   "cell_type": "markdown",
   "metadata": {},
   "source": [
    "(5) Using this formula, complete the previous plot with this estimator."
   ]
  },
  {
   "cell_type": "code",
   "execution_count": 57,
   "metadata": {},
   "outputs": [
    {
     "data": {
      "image/png": "[encoded data removed]",
      "text/plain": [
       "<Figure size 432x288 with 1 Axes>"
      ]
     },
     "metadata": {
      "needs_background": "light"
     },
     "output_type": "display_data"
    }
   ],
   "source": [
    "plt.plot(x,fx,\"ro\")\n",
    "plt.plot(x,y,\"bo\")\n",
    "plt.xlabel(\"x\")\n",
    "plt.ylabel(\"y\")\n",
    "plt.show()"
   ]
  },
  {
   "cell_type": "markdown",
   "metadata": {},
   "source": [
    "(6) Repeat the computation of the coefficients, using now the function `numpy.linalg.lstsq` . Check that the results are the same."
   ]
  },
  {
   "cell_type": "code",
   "execution_count": 72,
   "metadata": {},
   "outputs": [
    {
     "name": "stdout",
     "output_type": "stream",
     "text": [
      "w1= 1.0627762522966293\n",
      "w0= -0.01729647126923794\n"
     ]
    },
    {
     "name": "stderr",
     "output_type": "stream",
     "text": [
      "/Users/yiweizhang/opt/anaconda3/lib/python3.7/site-packages/ipykernel_launcher.py:3: FutureWarning: `rcond` parameter will change to the default of machine precision times ``max(M, N)`` where M and N are the input matrix dimensions.\n",
      "To use the future default and silence this warning we advise to pass `rcond=None`, to keep using the old, explicitly pass `rcond=-1`.\n",
      "  This is separate from the ipykernel package so we can avoid doing imports until\n"
     ]
    }
   ],
   "source": [
    "A = np.vstack([x, np.ones(len(x))]).T\n",
    "#print(A)\n",
    "w=np.linalg.lstsq(A,y)[0]\n",
    "w1=w[0]\n",
    "w0=w[1]\n",
    "print(\"w1=\",w1)\n",
    "print(\"w0=\",w0)"
   ]
  },
  {
   "cell_type": "markdown",
   "metadata": {},
   "source": [
    "(7) Minimize the empirical risk over the set of polynomials of order 2. Plot the optimal polynomial."
   ]
  },
  {
   "cell_type": "code",
   "execution_count": null,
   "metadata": {},
   "outputs": [],
   "source": []
  },
  {
   "cell_type": "markdown",
   "metadata": {},
   "source": [
    "(8) Generalize your code in order to compute the optimal polynomial of order $k$. Vary $k$ and the number of samples $n$, and plot the results. Comment."
   ]
  },
  {
   "cell_type": "code",
   "execution_count": null,
   "metadata": {},
   "outputs": [],
   "source": []
  },
  {
   "cell_type": "markdown",
   "metadata": {},
   "source": [
    "(9) Let us denote $\\hat{f}_k$ the minimizer of the empirical risk over the polynomials of order $k$. Plot the risk $R(\\hat{f}_k)$ and the empirical risk $\\hat{R}(\\hat{f}_k)$ as a function of $k$, for $n=40$ and $n=400$. Comment."
   ]
  },
  {
   "cell_type": "code",
   "execution_count": null,
   "metadata": {},
   "outputs": [],
   "source": []
  },
  {
   "cell_type": "markdown",
   "metadata": {},
   "source": [
    "## 2. Generalization performance"
   ]
  },
  {
   "cell_type": "markdown",
   "metadata": {},
   "source": [
    "We now consider problems in higher dimension with the following data distribution: $w^*$ and $X$ are such that each $w^*_j$ and $x_{i,j}$ is independent and follow $\\mathcal{N}(0,1/j^2)$ (centered normal with variance $1/j^2$). Then we have a linear model $Y= X^T w^* + Z$ where $Z\\sim \\mathcal{N}(0,\\sigma^2)$ (for simplicity, we omit the intercept/bias and consider linear predictors instead of affine)."
   ]
  },
  {
   "cell_type": "markdown",
   "metadata": {},
   "source": [
    "#### Ordinary least squares"
   ]
  },
  {
   "cell_type": "markdown",
   "metadata": {},
   "source": [
    "In class, we have shown that the fixed design risk of the OLS estimator $R_X(\\hat w)$ has an expectation of $\\sigma^2d/n$ (where the expectation is with respect to the random draw of the training outputs $Y_i$). Here we will measure the true risk, with a random design, and see if the behavior is similar. "
   ]
  },
  {
   "cell_type": "markdown",
   "metadata": {},
   "source": [
    "(10) Fix $d=20$ and $\\sigma = 0.5$ and plot the excess risk $R(\\hat w) - R^*= \\mathbb{E}_{X}[(X^T(\\hat{w}-w^*)) | w^*] = \\Vert \\hat{w} - w^*\\Vert_\\Sigma^2$ as a function of $n$ for $n\\geq d+1$, where $\\Sigma = \\mathbb{E}[XX^T] = \\mathrm{diag}(1/j^2)$. Does it converge to $0$? At what rate? (you may need to average over several realizations of $\\hat w$ to see a clear trend)."
   ]
  },
  {
   "cell_type": "code",
   "execution_count": null,
   "metadata": {},
   "outputs": [],
   "source": []
  },
  {
   "cell_type": "markdown",
   "metadata": {},
   "source": [
    "#### Ridge least-squares regression"
   ]
  },
  {
   "cell_type": "markdown",
   "metadata": {},
   "source": [
    "(11) In the same setting, compute the ridge least-squares estimator with a regularization parameter $\\lambda$. Plot the excess risk (as above) as a function of $\\lambda$ for $\\sigma =0.5$, $n=50$ and $d=20$ and $\\lambda \\in [0,10]$. Plot the same for $d=100$. Is the excess risk smaller than without regularization? At the best value for $\\lambda$, is there an effect of increasing the dimension? "
   ]
  },
  {
   "cell_type": "code",
   "execution_count": null,
   "metadata": {},
   "outputs": [],
   "source": []
  },
  {
   "cell_type": "markdown",
   "metadata": {},
   "source": [
    "It can be shown that with a proper choice of $\\lambda$ (which is in $O(1/\\sqrt{n})$) the (fixed design) excess risk of the ridge regression is in $O(1/\\sqrt{n})$. Let us see if we observe a similar behavior with a random design."
   ]
  },
  {
   "cell_type": "markdown",
   "metadata": {},
   "source": [
    "(12) With $d=20$, plot the excess risk as a function of $n$ where for each value of $n$, the value of the regularization $\\lambda$ is chosen in the set $\\{ 2^{-2},2^{-1},2^0,2^1,2^2,2^3\\}$ as the one with the smallest excess risk. Compare with the curve obtained with OLS in the same setting above. Note that in practice, we do not have access to the excess risk and $\\lambda$ has to be chosen via cross-validation. "
   ]
  },
  {
   "cell_type": "code",
   "execution_count": null,
   "metadata": {},
   "outputs": [],
   "source": []
  },
  {
   "cell_type": "markdown",
   "metadata": {},
   "source": [
    "##  3. (Optional) Linear and polynomial classification on the MNIST dataset"
   ]
  },
  {
   "cell_type": "markdown",
   "metadata": {},
   "source": [
    "Download the MNIST dataset from the course website and save it into the folder of this notebook."
   ]
  },
  {
   "cell_type": "code",
   "execution_count": null,
   "metadata": {},
   "outputs": [],
   "source": [
    "data = sio.loadmat('mnist_digits.mat')"
   ]
  },
  {
   "cell_type": "code",
   "execution_count": null,
   "metadata": {},
   "outputs": [],
   "source": [
    "data_x = data['x']\n",
    "data_y = data['y']\n",
    "print(data_x.shape)"
   ]
  },
  {
   "cell_type": "code",
   "execution_count": null,
   "metadata": {},
   "outputs": [],
   "source": [
    "i = np.random.randint(len(data['x']))\n",
    "plt.imshow(np.reshape(data_x[i],(28,28)), cmap='binary')\n",
    "plt.show()"
   ]
  },
  {
   "cell_type": "code",
   "execution_count": null,
   "metadata": {},
   "outputs": [],
   "source": [
    "data_y[i]"
   ]
  },
  {
   "cell_type": "markdown",
   "metadata": {},
   "source": [
    "(13) Optional question: choose two digits and train a linear classifier that distinguishes the two digits. You may use linear least-squares regression, where $y_i \\in \\{-1,+1\\}$ depends on the digit. Taking the sign of the learnt predictor then gives a classifier.\n",
    "\n",
    "Make sure that you divide the dataset into training and test sets to be able to evaluate the performance of your algorithms. If your algorithm involves a regularization parameter, use a validation set (or cross-validation) to fix it.\n",
    "\n",
    "Add noise to the images and repeat the experiments."
   ]
  },
  {
   "cell_type": "code",
   "execution_count": null,
   "metadata": {},
   "outputs": [],
   "source": []
  }
 ],
 "metadata": {
  "kernelspec": {
   "display_name": "Python 3",
   "language": "python",
   "name": "python3"
  },
  "language_info": {
   "codemirror_mode": {
    "name": "ipython",
    "version": 3
   },
   "file_extension": ".py",
   "mimetype": "text/x-python",
   "name": "python",
   "nbconvert_exporter": "python",
   "pygments_lexer": "ipython3",
   "version": "3.7.4"
  }
 },
 "nbformat": 4,
 "nbformat_minor": 2
}
